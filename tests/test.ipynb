{
 "cells": [
  {
   "cell_type": "code",
   "execution_count": 8,
   "metadata": {},
   "outputs": [
    {
     "data": {
      "application/vnd.plotly.v1+json": {
       "config": {
        "plotlyServerURL": "https://plot.ly"
       },
       "data": [
        {
         "branchvalues": "total",
         "customdata": [
          [
           4
          ],
          [
           1
          ],
          [
           1
          ],
          [
           1
          ],
          [
           2
          ],
          [
           3
          ],
          [
           1
          ],
          [
           4
          ],
          [
           1
          ],
          [
           5
          ],
          [
           5
          ],
          [
           8
          ],
          [
           8
          ],
          [
           2
          ],
          [
           1
          ],
          [
           1
          ],
          [
           1
          ],
          [
           8
          ],
          [
           10
          ],
          [
           1
          ],
          [
           4
          ],
          [
           17
          ],
          [
           1
          ],
          [
           2
          ],
          [
           3
          ],
          [
           9
          ],
          [
           17
          ],
          [
           2
          ],
          [
           1
          ],
          [
           2
          ],
          [
           1.5
          ],
          [
           1
          ],
          [
           2.5
          ],
          [
           1
          ],
          [
           5
          ],
          [
           8
          ],
          [
           8
          ],
          [
           15.285714285714286
          ],
          [
           8.2
          ],
          [
           2.5
          ],
          [
           3.3529411764705883
          ],
          [
           7.470588235294118
          ],
          [
           2
          ],
          [
           2
          ]
         ],
         "domain": {
          "x": [
           0,
           1
          ],
          "y": [
           0,
           1
          ]
         },
         "hovertemplate": "labels=%{label}<br>sum_sum=%{value}<br>parent=%{parent}<br>id=%{id}<br>sum=%{color}<extra></extra>",
         "ids": [
          "Problem/Fault/AppGallery-Install/Upgrade",
          "Problem/Fault/AppGallery-Use",
          "Suggestion/AppGallery-Use",
          "AppGallery-Install/Upgrade/Can't download Apps",
          "AppGallery-Install/Upgrade/Can't install Apps",
          "Coupon/Gifts/Points Issues/Can't use or acquire",
          "Coupon/Gifts/Points Issues/Cooperated campaign issue",
          "Problem/Fault/Coupon/Gifts/Points Issues",
          "Suggestion/General",
          "Suggestion/Invoice",
          "Invoice/Invoice related request",
          "Missing/Missing",
          "Others/Missing",
          "VIP / Offers / Promotions/Offers / Vouchers / Promotions",
          "AppGallery-Install/Upgrade/Other download/install/update issue",
          "AppGallery-Use/Others",
          "General/Others",
          "Overall/Others",
          "Suggestion/Payment",
          "Payment issue/Payment failed",
          "Problem/Fault/Payment issue",
          "Overall/Problem/Fault",
          "Payment/Query deduction details",
          "Third Party APPs/Refund",
          "Payment issue/Risk Control",
          "Payment/Subscription cancellation",
          "Overall/Suggestion",
          "Problem/Fault/Third Party APPs",
          "AppGallery-Use/UI Abnormal in Huawei AppGallery",
          "Problem/Fault/VIP / Offers / Promotions",
          "AppGallery-Install/Upgrade",
          "AppGallery-Use",
          "Coupon/Gifts/Points Issues",
          "General",
          "Invoice",
          "Missing",
          "Others",
          "Overall",
          "Payment",
          "Payment issue",
          "Problem/Fault",
          "Suggestion",
          "Third Party APPs",
          "VIP / Offers / Promotions"
         ],
         "labels": [
          "AppGallery-Install/Upgrade",
          "AppGallery-Use",
          "AppGallery-Use",
          "Can't download Apps",
          "Can't install Apps",
          "Can't use or acquire",
          "Cooperated campaign issue",
          "Coupon/Gifts/Points Issues",
          "General",
          "Invoice",
          "Invoice related request",
          "Missing",
          "Missing",
          "Offers / Vouchers / Promotions",
          "Other download/install/update issue",
          "Others",
          "Others",
          "Others",
          "Payment",
          "Payment failed",
          "Payment issue",
          "Problem/Fault",
          "Query deduction details",
          "Refund",
          "Risk Control",
          "Subscription cancellation",
          "Suggestion",
          "Third Party APPs",
          "UI Abnormal in Huawei AppGallery",
          "VIP / Offers / Promotions",
          "AppGallery-Install/Upgrade",
          "AppGallery-Use",
          "Coupon/Gifts/Points Issues",
          "General",
          "Invoice",
          "Missing",
          "Others",
          "Overall",
          "Payment",
          "Payment issue",
          "Problem/Fault",
          "Suggestion",
          "Third Party APPs",
          "VIP / Offers / Promotions"
         ],
         "marker": {
          "coloraxis": "coloraxis",
          "colors": [
           4,
           1,
           1,
           1,
           2,
           3,
           1,
           4,
           1,
           5,
           5,
           8,
           8,
           2,
           1,
           1,
           1,
           8,
           10,
           1,
           4,
           17,
           1,
           2,
           3,
           9,
           17,
           2,
           1,
           2,
           1.5,
           1,
           2.5,
           1,
           5,
           8,
           8,
           15.285714285714286,
           8.2,
           2.5,
           3.3529411764705883,
           7.470588235294118,
           2,
           2
          ]
         },
         "name": "",
         "parents": [
          "Problem/Fault",
          "Problem/Fault",
          "Suggestion",
          "AppGallery-Install/Upgrade",
          "AppGallery-Install/Upgrade",
          "Coupon/Gifts/Points Issues",
          "Coupon/Gifts/Points Issues",
          "Problem/Fault",
          "Suggestion",
          "Suggestion",
          "Invoice",
          "Missing",
          "Others",
          "VIP / Offers / Promotions",
          "AppGallery-Install/Upgrade",
          "AppGallery-Use",
          "General",
          "Overall",
          "Suggestion",
          "Payment issue",
          "Problem/Fault",
          "Overall",
          "Payment",
          "Third Party APPs",
          "Payment issue",
          "Payment",
          "Overall",
          "Problem/Fault",
          "AppGallery-Use",
          "Problem/Fault",
          "",
          "",
          "",
          "",
          "",
          "",
          "",
          "",
          "",
          "",
          "",
          "",
          "",
          ""
         ],
         "type": "sunburst",
         "values": [
          4,
          1,
          1,
          1,
          2,
          3,
          1,
          4,
          1,
          5,
          5,
          8,
          8,
          2,
          1,
          1,
          1,
          8,
          10,
          1,
          4,
          17,
          1,
          2,
          3,
          9,
          17,
          2,
          1,
          2,
          4,
          2,
          4,
          1,
          5,
          8,
          8,
          42,
          10,
          4,
          17,
          17,
          2,
          2
         ]
        }
       ],
       "layout": {
        "coloraxis": {
         "colorbar": {
          "title": {
           "text": "sum"
          }
         },
         "colorscale": [
          [
           0,
           "#440154"
          ],
          [
           0.1111111111111111,
           "#482878"
          ],
          [
           0.2222222222222222,
           "#3e4989"
          ],
          [
           0.3333333333333333,
           "#31688e"
          ],
          [
           0.4444444444444444,
           "#26828e"
          ],
          [
           0.5555555555555556,
           "#1f9e89"
          ],
          [
           0.6666666666666666,
           "#35b779"
          ],
          [
           0.7777777777777778,
           "#6ece58"
          ],
          [
           0.8888888888888888,
           "#b5de2b"
          ],
          [
           1,
           "#fde725"
          ]
         ]
        },
        "legend": {
         "tracegroupgap": 0
        },
        "template": {
         "data": {
          "bar": [
           {
            "error_x": {
             "color": "#2a3f5f"
            },
            "error_y": {
             "color": "#2a3f5f"
            },
            "marker": {
             "line": {
              "color": "#E5ECF6",
              "width": 0.5
             },
             "pattern": {
              "fillmode": "overlay",
              "size": 10,
              "solidity": 0.2
             }
            },
            "type": "bar"
           }
          ],
          "barpolar": [
           {
            "marker": {
             "line": {
              "color": "#E5ECF6",
              "width": 0.5
             },
             "pattern": {
              "fillmode": "overlay",
              "size": 10,
              "solidity": 0.2
             }
            },
            "type": "barpolar"
           }
          ],
          "carpet": [
           {
            "aaxis": {
             "endlinecolor": "#2a3f5f",
             "gridcolor": "white",
             "linecolor": "white",
             "minorgridcolor": "white",
             "startlinecolor": "#2a3f5f"
            },
            "baxis": {
             "endlinecolor": "#2a3f5f",
             "gridcolor": "white",
             "linecolor": "white",
             "minorgridcolor": "white",
             "startlinecolor": "#2a3f5f"
            },
            "type": "carpet"
           }
          ],
          "choropleth": [
           {
            "colorbar": {
             "outlinewidth": 0,
             "ticks": ""
            },
            "type": "choropleth"
           }
          ],
          "contour": [
           {
            "colorbar": {
             "outlinewidth": 0,
             "ticks": ""
            },
            "colorscale": [
             [
              0,
              "#0d0887"
             ],
             [
              0.1111111111111111,
              "#46039f"
             ],
             [
              0.2222222222222222,
              "#7201a8"
             ],
             [
              0.3333333333333333,
              "#9c179e"
             ],
             [
              0.4444444444444444,
              "#bd3786"
             ],
             [
              0.5555555555555556,
              "#d8576b"
             ],
             [
              0.6666666666666666,
              "#ed7953"
             ],
             [
              0.7777777777777778,
              "#fb9f3a"
             ],
             [
              0.8888888888888888,
              "#fdca26"
             ],
             [
              1,
              "#f0f921"
             ]
            ],
            "type": "contour"
           }
          ],
          "contourcarpet": [
           {
            "colorbar": {
             "outlinewidth": 0,
             "ticks": ""
            },
            "type": "contourcarpet"
           }
          ],
          "heatmap": [
           {
            "colorbar": {
             "outlinewidth": 0,
             "ticks": ""
            },
            "colorscale": [
             [
              0,
              "#0d0887"
             ],
             [
              0.1111111111111111,
              "#46039f"
             ],
             [
              0.2222222222222222,
              "#7201a8"
             ],
             [
              0.3333333333333333,
              "#9c179e"
             ],
             [
              0.4444444444444444,
              "#bd3786"
             ],
             [
              0.5555555555555556,
              "#d8576b"
             ],
             [
              0.6666666666666666,
              "#ed7953"
             ],
             [
              0.7777777777777778,
              "#fb9f3a"
             ],
             [
              0.8888888888888888,
              "#fdca26"
             ],
             [
              1,
              "#f0f921"
             ]
            ],
            "type": "heatmap"
           }
          ],
          "heatmapgl": [
           {
            "colorbar": {
             "outlinewidth": 0,
             "ticks": ""
            },
            "colorscale": [
             [
              0,
              "#0d0887"
             ],
             [
              0.1111111111111111,
              "#46039f"
             ],
             [
              0.2222222222222222,
              "#7201a8"
             ],
             [
              0.3333333333333333,
              "#9c179e"
             ],
             [
              0.4444444444444444,
              "#bd3786"
             ],
             [
              0.5555555555555556,
              "#d8576b"
             ],
             [
              0.6666666666666666,
              "#ed7953"
             ],
             [
              0.7777777777777778,
              "#fb9f3a"
             ],
             [
              0.8888888888888888,
              "#fdca26"
             ],
             [
              1,
              "#f0f921"
             ]
            ],
            "type": "heatmapgl"
           }
          ],
          "histogram": [
           {
            "marker": {
             "pattern": {
              "fillmode": "overlay",
              "size": 10,
              "solidity": 0.2
             }
            },
            "type": "histogram"
           }
          ],
          "histogram2d": [
           {
            "colorbar": {
             "outlinewidth": 0,
             "ticks": ""
            },
            "colorscale": [
             [
              0,
              "#0d0887"
             ],
             [
              0.1111111111111111,
              "#46039f"
             ],
             [
              0.2222222222222222,
              "#7201a8"
             ],
             [
              0.3333333333333333,
              "#9c179e"
             ],
             [
              0.4444444444444444,
              "#bd3786"
             ],
             [
              0.5555555555555556,
              "#d8576b"
             ],
             [
              0.6666666666666666,
              "#ed7953"
             ],
             [
              0.7777777777777778,
              "#fb9f3a"
             ],
             [
              0.8888888888888888,
              "#fdca26"
             ],
             [
              1,
              "#f0f921"
             ]
            ],
            "type": "histogram2d"
           }
          ],
          "histogram2dcontour": [
           {
            "colorbar": {
             "outlinewidth": 0,
             "ticks": ""
            },
            "colorscale": [
             [
              0,
              "#0d0887"
             ],
             [
              0.1111111111111111,
              "#46039f"
             ],
             [
              0.2222222222222222,
              "#7201a8"
             ],
             [
              0.3333333333333333,
              "#9c179e"
             ],
             [
              0.4444444444444444,
              "#bd3786"
             ],
             [
              0.5555555555555556,
              "#d8576b"
             ],
             [
              0.6666666666666666,
              "#ed7953"
             ],
             [
              0.7777777777777778,
              "#fb9f3a"
             ],
             [
              0.8888888888888888,
              "#fdca26"
             ],
             [
              1,
              "#f0f921"
             ]
            ],
            "type": "histogram2dcontour"
           }
          ],
          "mesh3d": [
           {
            "colorbar": {
             "outlinewidth": 0,
             "ticks": ""
            },
            "type": "mesh3d"
           }
          ],
          "parcoords": [
           {
            "line": {
             "colorbar": {
              "outlinewidth": 0,
              "ticks": ""
             }
            },
            "type": "parcoords"
           }
          ],
          "pie": [
           {
            "automargin": true,
            "type": "pie"
           }
          ],
          "scatter": [
           {
            "fillpattern": {
             "fillmode": "overlay",
             "size": 10,
             "solidity": 0.2
            },
            "type": "scatter"
           }
          ],
          "scatter3d": [
           {
            "line": {
             "colorbar": {
              "outlinewidth": 0,
              "ticks": ""
             }
            },
            "marker": {
             "colorbar": {
              "outlinewidth": 0,
              "ticks": ""
             }
            },
            "type": "scatter3d"
           }
          ],
          "scattercarpet": [
           {
            "marker": {
             "colorbar": {
              "outlinewidth": 0,
              "ticks": ""
             }
            },
            "type": "scattercarpet"
           }
          ],
          "scattergeo": [
           {
            "marker": {
             "colorbar": {
              "outlinewidth": 0,
              "ticks": ""
             }
            },
            "type": "scattergeo"
           }
          ],
          "scattergl": [
           {
            "marker": {
             "colorbar": {
              "outlinewidth": 0,
              "ticks": ""
             }
            },
            "type": "scattergl"
           }
          ],
          "scattermapbox": [
           {
            "marker": {
             "colorbar": {
              "outlinewidth": 0,
              "ticks": ""
             }
            },
            "type": "scattermapbox"
           }
          ],
          "scatterpolar": [
           {
            "marker": {
             "colorbar": {
              "outlinewidth": 0,
              "ticks": ""
             }
            },
            "type": "scatterpolar"
           }
          ],
          "scatterpolargl": [
           {
            "marker": {
             "colorbar": {
              "outlinewidth": 0,
              "ticks": ""
             }
            },
            "type": "scatterpolargl"
           }
          ],
          "scatterternary": [
           {
            "marker": {
             "colorbar": {
              "outlinewidth": 0,
              "ticks": ""
             }
            },
            "type": "scatterternary"
           }
          ],
          "surface": [
           {
            "colorbar": {
             "outlinewidth": 0,
             "ticks": ""
            },
            "colorscale": [
             [
              0,
              "#0d0887"
             ],
             [
              0.1111111111111111,
              "#46039f"
             ],
             [
              0.2222222222222222,
              "#7201a8"
             ],
             [
              0.3333333333333333,
              "#9c179e"
             ],
             [
              0.4444444444444444,
              "#bd3786"
             ],
             [
              0.5555555555555556,
              "#d8576b"
             ],
             [
              0.6666666666666666,
              "#ed7953"
             ],
             [
              0.7777777777777778,
              "#fb9f3a"
             ],
             [
              0.8888888888888888,
              "#fdca26"
             ],
             [
              1,
              "#f0f921"
             ]
            ],
            "type": "surface"
           }
          ],
          "table": [
           {
            "cells": {
             "fill": {
              "color": "#EBF0F8"
             },
             "line": {
              "color": "white"
             }
            },
            "header": {
             "fill": {
              "color": "#C8D4E3"
             },
             "line": {
              "color": "white"
             }
            },
            "type": "table"
           }
          ]
         },
         "layout": {
          "annotationdefaults": {
           "arrowcolor": "#2a3f5f",
           "arrowhead": 0,
           "arrowwidth": 1
          },
          "autotypenumbers": "strict",
          "coloraxis": {
           "colorbar": {
            "outlinewidth": 0,
            "ticks": ""
           }
          },
          "colorscale": {
           "diverging": [
            [
             0,
             "#8e0152"
            ],
            [
             0.1,
             "#c51b7d"
            ],
            [
             0.2,
             "#de77ae"
            ],
            [
             0.3,
             "#f1b6da"
            ],
            [
             0.4,
             "#fde0ef"
            ],
            [
             0.5,
             "#f7f7f7"
            ],
            [
             0.6,
             "#e6f5d0"
            ],
            [
             0.7,
             "#b8e186"
            ],
            [
             0.8,
             "#7fbc41"
            ],
            [
             0.9,
             "#4d9221"
            ],
            [
             1,
             "#276419"
            ]
           ],
           "sequential": [
            [
             0,
             "#0d0887"
            ],
            [
             0.1111111111111111,
             "#46039f"
            ],
            [
             0.2222222222222222,
             "#7201a8"
            ],
            [
             0.3333333333333333,
             "#9c179e"
            ],
            [
             0.4444444444444444,
             "#bd3786"
            ],
            [
             0.5555555555555556,
             "#d8576b"
            ],
            [
             0.6666666666666666,
             "#ed7953"
            ],
            [
             0.7777777777777778,
             "#fb9f3a"
            ],
            [
             0.8888888888888888,
             "#fdca26"
            ],
            [
             1,
             "#f0f921"
            ]
           ],
           "sequentialminus": [
            [
             0,
             "#0d0887"
            ],
            [
             0.1111111111111111,
             "#46039f"
            ],
            [
             0.2222222222222222,
             "#7201a8"
            ],
            [
             0.3333333333333333,
             "#9c179e"
            ],
            [
             0.4444444444444444,
             "#bd3786"
            ],
            [
             0.5555555555555556,
             "#d8576b"
            ],
            [
             0.6666666666666666,
             "#ed7953"
            ],
            [
             0.7777777777777778,
             "#fb9f3a"
            ],
            [
             0.8888888888888888,
             "#fdca26"
            ],
            [
             1,
             "#f0f921"
            ]
           ]
          },
          "colorway": [
           "#636efa",
           "#EF553B",
           "#00cc96",
           "#ab63fa",
           "#FFA15A",
           "#19d3f3",
           "#FF6692",
           "#B6E880",
           "#FF97FF",
           "#FECB52"
          ],
          "font": {
           "color": "#2a3f5f"
          },
          "geo": {
           "bgcolor": "white",
           "lakecolor": "white",
           "landcolor": "#E5ECF6",
           "showlakes": true,
           "showland": true,
           "subunitcolor": "white"
          },
          "hoverlabel": {
           "align": "left"
          },
          "hovermode": "closest",
          "mapbox": {
           "style": "light"
          },
          "paper_bgcolor": "white",
          "plot_bgcolor": "#E5ECF6",
          "polar": {
           "angularaxis": {
            "gridcolor": "white",
            "linecolor": "white",
            "ticks": ""
           },
           "bgcolor": "#E5ECF6",
           "radialaxis": {
            "gridcolor": "white",
            "linecolor": "white",
            "ticks": ""
           }
          },
          "scene": {
           "xaxis": {
            "backgroundcolor": "#E5ECF6",
            "gridcolor": "white",
            "gridwidth": 2,
            "linecolor": "white",
            "showbackground": true,
            "ticks": "",
            "zerolinecolor": "white"
           },
           "yaxis": {
            "backgroundcolor": "#E5ECF6",
            "gridcolor": "white",
            "gridwidth": 2,
            "linecolor": "white",
            "showbackground": true,
            "ticks": "",
            "zerolinecolor": "white"
           },
           "zaxis": {
            "backgroundcolor": "#E5ECF6",
            "gridcolor": "white",
            "gridwidth": 2,
            "linecolor": "white",
            "showbackground": true,
            "ticks": "",
            "zerolinecolor": "white"
           }
          },
          "shapedefaults": {
           "line": {
            "color": "#2a3f5f"
           }
          },
          "ternary": {
           "aaxis": {
            "gridcolor": "white",
            "linecolor": "white",
            "ticks": ""
           },
           "baxis": {
            "gridcolor": "white",
            "linecolor": "white",
            "ticks": ""
           },
           "bgcolor": "#E5ECF6",
           "caxis": {
            "gridcolor": "white",
            "linecolor": "white",
            "ticks": ""
           }
          },
          "title": {
           "x": 0.05
          },
          "xaxis": {
           "automargin": true,
           "gridcolor": "white",
           "linecolor": "white",
           "ticks": "",
           "title": {
            "standoff": 15
           },
           "zerolinecolor": "white",
           "zerolinewidth": 2
          },
          "yaxis": {
           "automargin": true,
           "gridcolor": "white",
           "linecolor": "white",
           "ticks": "",
           "title": {
            "standoff": 15
           },
           "zerolinecolor": "white",
           "zerolinewidth": 2
          }
         }
        },
        "title": {
         "text": "Issues Visualization"
        }
       }
      }
     },
     "metadata": {},
     "output_type": "display_data"
    }
   ],
   "source": [
    "import plotly.express as px\n",
    "import pandas as pd\n",
    "\n",
    "def generate_sunburst_chart(csv_file_path, output_image_path):\n",
    "    # Load the true and predicted results data\n",
    "    results_df = pd.read_csv(csv_file_path)\n",
    "\n",
    "    # Create a DataFrame to store the counts of each category\n",
    "    data = {\n",
    "        'labels': [],\n",
    "        'sum': [],\n",
    "        'parent': []\n",
    "    }\n",
    "\n",
    "    # Aggregate counts for Y2_test\n",
    "    y2_counts = results_df['Y2_test'].value_counts()\n",
    "    for label, count in y2_counts.items():\n",
    "        data['labels'].append(label)\n",
    "        data['sum'].append(count)\n",
    "        data['parent'].append(\"Overall\")\n",
    "\n",
    "    # Aggregate counts for Y3_test and link them to their respective Y2_test categories\n",
    "    y3_counts = results_df.groupby(['Y2_test', 'Y3_test']).size().reset_index(name='count')\n",
    "    for _, row in y3_counts.iterrows():\n",
    "        data['labels'].append(row['Y3_test'])\n",
    "        data['sum'].append(row['count'])\n",
    "        data['parent'].append(row['Y2_test'])\n",
    "\n",
    "    # Aggregate counts for Y4_test and link them to their respective Y3_test categories\n",
    "    y4_counts = results_df.groupby(['Y3_test', 'Y4_test']).size().reset_index(name='count')\n",
    "    for _, row in y4_counts.iterrows():\n",
    "        data['labels'].append(row['Y4_test'])\n",
    "        data['sum'].append(row['count'])\n",
    "        data['parent'].append(row['Y3_test'])\n",
    "\n",
    "    # Create a DataFrame for visualization\n",
    "    df_viz = pd.DataFrame(data)\n",
    "\n",
    "    # Plotting the sunburst chart\n",
    "    fig = px.sunburst(df_viz, path=['parent', 'labels'], values='sum', color='sum',\n",
    "                      color_continuous_scale='Viridis',\n",
    "                      title=\"Issues Visualization\")\n",
    "\n",
    "    # Save the plot as a file\n",
    "    fig.write_image(output_image_path)\n",
    "\n",
    "    # Show the plot\n",
    "    fig.show()\n",
    "\n",
    "if __name__ == '__main__':\n",
    "    csv_file_path = 'true_and_predicted_results.csv'\n",
    "    output_image_path = 'sunburst_chart.png'\n",
    "    generate_sunburst_chart(csv_file_path, output_image_path)\n"
   ]
  }
 ],
 "metadata": {
  "kernelspec": {
   "display_name": "Python 3",
   "language": "python",
   "name": "python3"
  },
  "language_info": {
   "codemirror_mode": {
    "name": "ipython",
    "version": 3
   },
   "file_extension": ".py",
   "mimetype": "text/x-python",
   "name": "python",
   "nbconvert_exporter": "python",
   "pygments_lexer": "ipython3",
   "version": "3.12.4"
  }
 },
 "nbformat": 4,
 "nbformat_minor": 2
}
